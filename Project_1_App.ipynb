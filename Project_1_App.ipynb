{
  "nbformat": 4,
  "nbformat_minor": 0,
  "metadata": {
    "colab": {
      "provenance": [],
      "authorship_tag": "ABX9TyNZgHFCQueDamQjvXtfc3FT",
      "include_colab_link": true
    },
    "kernelspec": {
      "name": "python3",
      "display_name": "Python 3"
    },
    "language_info": {
      "name": "python"
    }
  },
  "cells": [
    {
      "cell_type": "markdown",
      "metadata": {
        "id": "view-in-github",
        "colab_type": "text"
      },
      "source": [
        "<a href=\"https://colab.research.google.com/github/nbolt1989/ingredient_app/blob/main/Project_1_App.ipynb\" target=\"_parent\"><img src=\"https://colab.research.google.com/assets/colab-badge.svg\" alt=\"Open In Colab\"/></a>"
      ]
    },
    {
      "cell_type": "markdown",
      "source": [
        "***Building an app***\n",
        "\n",
        "1. Create a simple app\n",
        "2. Decompose and plan our app"
      ],
      "metadata": {
        "id": "Bh73hFlrcgAq"
      }
    },
    {
      "cell_type": "markdown",
      "source": [
        "**App Briefing**\n",
        "\n",
        "Problem: Eating is great but choosing meals every week is a pain.\n",
        "  Remembering all the ingredients for the grocery store is also a pain--it is too easy to forget things\n",
        "\n",
        "Solution: A simple app to pick meals for us, and give us a list of all the ingredients we need for our shopping list.\n",
        "\n",
        "1. Decompose the ideal solution\n",
        "2.Code a Proof of Concept\n",
        "3.Code a Minimum Viable Product using Pything\n"
      ],
      "metadata": {
        "id": "S5KjkVvDcw1B"
      }
    },
    {
      "cell_type": "markdown",
      "source": [
        "**Decompose**\n",
        "\n",
        "Two core features: Choose dishes and list ingredients"
      ],
      "metadata": {
        "id": "2WpHp4Y_dmsw"
      }
    },
    {
      "cell_type": "code",
      "execution_count": null,
      "metadata": {
        "id": "-ZwLMLC1lNHw"
      },
      "outputs": [],
      "source": []
    }
  ]
}